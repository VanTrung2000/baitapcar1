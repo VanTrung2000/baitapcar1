{
  "nbformat": 4,
  "nbformat_minor": 0,
  "metadata": {
    "colab": {
      "name": "baitapcar.ipynb",
      "provenance": [],
      "collapsed_sections": [],
      "authorship_tag": "ABX9TyMGKdQU7QnnYLJktIy39B7T",
      "include_colab_link": true
    },
    "kernelspec": {
      "name": "python3",
      "display_name": "Python 3"
    }
  },
  "cells": [
    {
      "cell_type": "markdown",
      "metadata": {
        "id": "view-in-github",
        "colab_type": "text"
      },
      "source": [
        "<a href=\"https://colab.research.google.com/github/VanTrung2000/baitapcar1/blob/main/baitapcar.ipynb\" target=\"_parent\"><img src=\"https://colab.research.google.com/assets/colab-badge.svg\" alt=\"Open In Colab\"/></a>"
      ]
    },
    {
      "cell_type": "code",
      "metadata": {
        "id": "XS14WQHzmzjs"
      },
      "source": [
        "\r\n",
        "class Car:\r\n",
        "  color = 'white'\r\n",
        "\r\n",
        "  def __init__(self, name, engine):\r\n",
        "    self.name = name\r\n",
        "    self.engine = engine\r\n",
        "  \r\n",
        "  def setColor(self, color):\r\n",
        "    self.color = color\r\n",
        "  \r\n",
        "  def setEngine(self, engine):\r\n",
        "    self.engine = engine\r\n",
        "  \r\n",
        "  def setName(self, name):\r\n",
        "    self.name = name\r\n",
        "  \r\n",
        "  def getEngine(self):\r\n",
        "    return self.engine\r\n",
        "  \r\n",
        "  def toString(self):\r\n",
        "    s = 'Xe {} có màu {} và động cơ {} mã lực'.format(self.name, self.color, self.engine)\r\n",
        "    return(s) \r\n",
        "  def key_start(self):\r\n",
        "    print ('{} Co cop xe'.format(self.name))"
      ],
      "execution_count": null,
      "outputs": []
    },
    {
      "cell_type": "markdown",
      "metadata": {
        "id": "b3Qo_f4joBJK"
      },
      "source": [
        "Sử dụng lớp Car"
      ]
    },
    {
      "cell_type": "code",
      "metadata": {
        "id": "EWXljQMnn_2S",
        "colab": {
          "base_uri": "https://localhost:8080/"
        },
        "outputId": "251936cc-1d90-43a5-b137-eea24e5eeaee"
      },
      "source": [
        "fadil = Car('Vios', 2.5)\r\n",
        "print(fadil.toString())\r\n",
        "fadil.key_start()"
      ],
      "execution_count": null,
      "outputs": [
        {
          "output_type": "stream",
          "text": [
            "Xe Vios có màu white và động cơ 2.5 mã lực\n",
            "Vios Co cop xe\n"
          ],
          "name": "stdout"
        }
      ]
    },
    {
      "cell_type": "markdown",
      "metadata": {
        "id": "ZxnC6gZ07Zv5"
      },
      "source": [
        "KE THUA"
      ]
    },
    {
      "cell_type": "code",
      "metadata": {
        "id": "nlwDQmEU6ReI"
      },
      "source": [
        "\r\n",
        "class Truck(Car):\r\n",
        "  def __init__(self,name,engine,color,weight):\r\n",
        "    super().__init__(name,engine,color)\r\n",
        "    self.weight = weight \r\n",
        "\r\n",
        "\r\n",
        "  def __str__(self):\r\n",
        "    return 'Xe {} có màu {} và động cơ {} mã lực tải trọng {} tan'.format(self.name, self.color, self.engine,self.weight)\r\n",
        "  \r\n",
        "  def key_start(self):\r\n",
        "    print ('{} Khong Co cop xe'.format(self.name))\r\n",
        "xetai = Truck(\"xetai\", \"h3\",\"red\", 2)\r\n",
        "print(xetai. __str__())\r\n",
        "xetai.key_start()"
      ],
      "execution_count": null,
      "outputs": []
    }
  ]
}